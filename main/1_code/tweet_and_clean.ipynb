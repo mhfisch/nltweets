{
 "cells": [
  {
   "cell_type": "code",
   "execution_count": 1,
   "metadata": {},
   "outputs": [
    {
     "data": {
      "application/javascript": [
       "IPython.notebook.set_autosave_interval(45000)"
      ]
     },
     "metadata": {},
     "output_type": "display_data"
    },
    {
     "name": "stdout",
     "output_type": "stream",
     "text": [
      "Autosaving every 45 seconds\n"
     ]
    }
   ],
   "source": [
    "%autosave 45\n",
    "#!/usr/bin/python\n",
    "# -*- coding: utf-8 -*-\n",
    "\n",
    "import tweepy\n",
    "import spacy\n",
    "import csv\n",
    "import json\n",
    "import pandas as pd\n",
    "import os"
   ]
  },
  {
   "cell_type": "code",
   "execution_count": 2,
   "metadata": {},
   "outputs": [],
   "source": [
    "# Twitter API credentials\n",
    "credentialsPath = r'..\\0_data\\credentials'\n",
    "with open(os.path.join(credentialsPath, 'twitter_credentials.json')) as cred_data:\n",
    "    info = json.load(cred_data)\n",
    "    consumer_key = info['CONSUMER_KEY']\n",
    "    consumer_secret = info['CONSUMER_SECRET']\n",
    "    access_key = info['ACCESS_KEY']\n",
    "    access_secret = info['ACCESS_SECRET']\n",
    "\n",
    "# Create the api endpoint\n",
    "auth = tweepy.OAuthHandler(consumer_key, consumer_secret)\n",
    "api = tweepy.API(auth)"
   ]
  },
  {
   "cell_type": "code",
   "execution_count": 25,
   "metadata": {},
   "outputs": [
    {
     "name": "stdout",
     "output_type": "stream",
     "text": [
      "Enter the number of tweets that you want to extract- 50\n",
      "Enter which you are searching for, a hashtag (#), or a mention (@)- @\n",
      "Enter the term you want to scrape- sfmta_muni\n"
     ]
    }
   ],
   "source": [
    "# Convert to data frame and capture each column feature in an array\n",
    "def toDataFrame(tweets):\n",
    "    DataSet = pd.DataFrame()\n",
    "    \n",
    "    tweetsText = []\n",
    "    for tweet in tweets:\n",
    "            if 'retweeted_status' in  dir(tweet):\n",
    "                tweetsText.append(tweet.retweeted_status.full_text.encode('utf-8'))                \n",
    "            else:\n",
    "                tweetsText.append(tweet.full_text.encode('utf-8'))\n",
    "            \n",
    "    DataSet['Text'] = [text for text in tweetsText]\n",
    "    DataSet['User'] = [tweet.user.name.encode('utf-8') for tweet in tweets]\n",
    "    \n",
    "    tweetsImages = []\n",
    "    for tweet in tweets:\n",
    "        if 'media' in tweet.entities:\n",
    "            for image in tweet.entities['media']:\n",
    "                tweetsImages.append(image['media_url'])\n",
    "        else:\n",
    "            tweetsImages.append('')\n",
    "            \n",
    "    \n",
    "    DataSet['Image Urls'] = [image for image in tweetsImages]\n",
    "            \n",
    "    tweetsLongitudes = []\n",
    "    for tweet in tweets:\n",
    "        if tweet.coordinates is not None:\n",
    "            tweetsLongitudes.append(tweet.coordinates[\"coordinates\"][0])\n",
    "        else:\n",
    "            tweetsLongitudes.append('')\n",
    "    DataSet['Longitude'] = [longitude for longitude in tweetsLongitudes]\n",
    "    \n",
    "    tweetsLatitudes = []\n",
    "    for tweet in tweets:\n",
    "        if tweet.coordinates is not None:\n",
    "            tweetsLatitudes.append(tweet.coordinates[\"coordinates\"][1])\n",
    "        else:\n",
    "            tweetsLatitudes.append('')\n",
    "    DataSet['Latitude'] = [latitude for latitude in tweetsLatitudes]\n",
    "    \n",
    "    return DataSet\n",
    "\n",
    "\n",
    "# Specify the maximum number of tweets that you want to be extracted.\n",
    "maximum_number_of_tweets_to_be_extracted = \\\n",
    "    int(input('Enter the number of tweets that you want to extract- '))\n",
    "\n",
    "# Specify if you are looking for hashtags or mentions\n",
    "# Note: mentions will get you exactly a mention and are case insensitive\n",
    "# Note 2: hashtags are case insensitive and not required\n",
    "# Example: datascience, Datascience, #datascience, and #Datascience will return tweets about data science\n",
    "# Hashtags of course are explicit mentions of a term, but are not case sensitive on Twitter\n",
    "tag_choice = input('Enter which you are searching for, a hashtag (#), or a mention (@)- ')\n",
    "\n",
    "# Specify the term you want to scrape\n",
    "mention = input('Enter the term you want to scrape- ')\n",
    "\n",
    "results = []\n",
    "\n",
    "for tweet_info in tweepy.Cursor(api.search, q=str(tag_choice) + mention,\n",
    "                           tweet_mode='extended').items(maximum_number_of_tweets_to_be_extracted):\n",
    "    results.append(tweet_info)\n",
    "    \n",
    "for tweet_info in tweepy.Cursor(api.search, q=str(tag_choice) + mention.upper(),\n",
    "                           tweet_mode='extended').items(maximum_number_of_tweets_to_be_extracted):\n",
    "    results.append(tweet_info)\n",
    "\n",
    "dataframe = toDataFrame(results)"
   ]
  },
  {
   "cell_type": "code",
   "execution_count": 26,
   "metadata": {},
   "outputs": [
    {
     "data": {
      "text/plain": [
       "[('tagger', <spacy.pipeline.Tagger at 0x15109725be0>),\n",
       " ('parser', <spacy.pipeline.DependencyParser at 0x15101035f10>),\n",
       " ('ner', <spacy.pipeline.EntityRecognizer at 0x15101035888>)]"
      ]
     },
     "execution_count": 26,
     "metadata": {},
     "output_type": "execute_result"
    }
   ],
   "source": [
    "# Load the spacy library and English corpus\n",
    "nlp = spacy.load('en')\n",
    "\n",
    "nlp.pipeline"
   ]
  },
  {
   "cell_type": "code",
   "execution_count": 28,
   "metadata": {},
   "outputs": [],
   "source": [
    "from collections import defaultdict\n",
    "\n",
    "# Instantiate cleaned data dictionary\n",
    "cleaned_data = defaultdict(list)\n",
    "\n",
    "# Clean the text data\n",
    "for row in dataframe.itertuples():\n",
    "    text = row[1].decode('utf-8')\n",
    "    user = row[2].decode('utf-8')\n",
    "    imageurl = row[3]\n",
    "    longitude = row[4]\n",
    "    latitude = row[5]\n",
    "    \n",
    "    text_doc = nlp.make_doc(text)\n",
    "    tokens = [token for token in text_doc if not token.is_stop]\n",
    "    tokens = [token for token in tokens if not token.is_punct]\n",
    "    tokens = [token for token in tokens if token.text != ' ']    \n",
    "    tokens_final = [token.text for token in tokens]\n",
    "    \n",
    "    text = \" \".join(tokens_final).strip()\n",
    "    text = text.replace('\\n', '')\n",
    "    \n",
    "    cleaned_data['Text'].append(text)\n",
    "    cleaned_data['User'].append(user)\n",
    "    cleaned_data['Image'].append(imageurl)\n",
    "    cleaned_data['Longitude'].append(longitude)\n",
    "    cleaned_data['Latitude'].append(latitude)\n",
    "\n",
    "cleaned_dataframe = pd.DataFrame(cleaned_data)"
   ]
  },
  {
   "cell_type": "code",
   "execution_count": 29,
   "metadata": {},
   "outputs": [
    {
     "name": "stdout",
     "output_type": "stream",
     "text": [
      "Extracted 50 tweets with @sfmta_muni\n"
     ]
    }
   ],
   "source": [
    "outputPath = r'..\\0_data\\manual'\n",
    "filePath = os.path.join(outputPath,'tweets_with_' + str(tag_choice) + 'mention_' + mention + '.csv')\n",
    "if not os.path.isfile(filePath):\n",
    "    cleaned_dataframe.to_csv(filePath, index=False)\n",
    "else:\n",
    "    with open(filePath, 'a') as file:\n",
    "        cleaned_dataframe.to_csv(file, index = False)\n",
    "print ('Extracted ' + str(maximum_number_of_tweets_to_be_extracted) \\\n",
    "    + ' tweets with ' + str(tag_choice) + mention)"
   ]
  }
 ],
 "metadata": {
  "kernelspec": {
   "display_name": "Python 3",
   "language": "python",
   "name": "python3"
  },
  "language_info": {
   "codemirror_mode": {
    "name": "ipython",
    "version": 3
   },
   "file_extension": ".py",
   "mimetype": "text/x-python",
   "name": "python",
   "nbconvert_exporter": "python",
   "pygments_lexer": "ipython3",
   "version": "3.6.0"
  }
 },
 "nbformat": 4,
 "nbformat_minor": 2
}
